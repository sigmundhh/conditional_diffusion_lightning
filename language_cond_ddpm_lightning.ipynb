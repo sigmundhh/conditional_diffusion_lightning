{
 "cells": [
  {
   "cell_type": "code",
   "execution_count": 1,
   "metadata": {},
   "outputs": [
    {
     "name": "stderr",
     "output_type": "stream",
     "text": [
      "/home/sigmund/miniconda3/envs/calvin_venv/lib/python3.8/site-packages/tqdm/auto.py:21: TqdmWarning: IProgress not found. Please update jupyter and ipywidgets. See https://ipywidgets.readthedocs.io/en/stable/user_install.html\n",
      "  from .autonotebook import tqdm as notebook_tqdm\n"
     ]
    }
   ],
   "source": [
    "import random\n",
    "import math\n",
    "\n",
    "import pytorch_lightning as pl\n",
    "import torch\n",
    "import torch.nn as nn \n",
    "import torch.nn.functional as F\n",
    "from pytorch_lightning.loggers.wandb import WandbLogger\n",
    "\n",
    "from tqdm import tqdm\n",
    "\n",
    "import matplotlib.pyplot as plt\n",
    "\n",
    "from torch.utils.data import DataLoader\n",
    "from torchvision.transforms import Compose, ToTensor, Lambda\n",
    "from torchvision.datasets.mnist import MNIST\n",
    "import torchvision\n",
    "\n",
    "from sentence_transformers import SentenceTransformer\n",
    "\n",
    "import PIL\n",
    "import os"
   ]
  },
  {
   "cell_type": "markdown",
   "metadata": {},
   "source": [
    "## Utils"
   ]
  },
  {
   "cell_type": "code",
   "execution_count": 2,
   "metadata": {},
   "outputs": [],
   "source": [
    "os.environ[\"TOKENIZERS_PARALLELISM\"] = \"false\""
   ]
  },
  {
   "cell_type": "code",
   "execution_count": 3,
   "metadata": {},
   "outputs": [],
   "source": [
    "digit_task_dictionary = {\n",
    "    0: [\n",
    "        \"Draw the digit zero\",\n",
    "        \"Sketch the number 0\",\n",
    "        \"Inscribe the numeral zero\",\n",
    "        \"Draft the digit 0\",\n",
    "        \"Illustrate the number zero\"\n",
    "    ],\n",
    "    1: [\n",
    "        \"Draw the digit one\",\n",
    "        \"Sketch the number 1\",\n",
    "        \"Inscribe the numeral one\",\n",
    "        \"Draft the digit 1\",\n",
    "        \"Illustrate the number one\"\n",
    "    ],\n",
    "    2: [\n",
    "        \"Draw the digit two\",\n",
    "        \"Sketch the number 2\",\n",
    "        \"Inscribe the numeral two\",\n",
    "        \"Draft the digit 2\",\n",
    "        \"Illustrate the number two\"\n",
    "    ],\n",
    "    3: [\n",
    "        \"Draw the digit three\",\n",
    "        \"Sketch the number 3\",\n",
    "        \"Inscribe the numeral three\",\n",
    "        \"Draft the digit 3\",\n",
    "        \"Illustrate the number three\"\n",
    "    ],\n",
    "    4: [\n",
    "        \"Draw the digit four\",\n",
    "        \"Sketch the number 4\",\n",
    "        \"Inscribe the numeral four\",\n",
    "        \"Draft the digit 4\",\n",
    "        \"Illustrate the number four\"\n",
    "    ],\n",
    "    5: [\n",
    "        \"Draw the digit five\",\n",
    "        \"Sketch the number 5\",\n",
    "        \"Inscribe the numeral five\",\n",
    "        \"Draft the digit 5\",\n",
    "        \"Illustrate the number five\"\n",
    "    ],\n",
    "    6: [\n",
    "        \"Draw the digit six\",\n",
    "        \"Sketch the number 6\",\n",
    "        \"Inscribe the numeral six\",\n",
    "        \"Draft the digit 6\",\n",
    "        \"Illustrate the number six\"\n",
    "    ],\n",
    "    7: [\n",
    "        \"Draw the digit seven\",\n",
    "        \"Sketch the number 7\",\n",
    "        \"Inscribe the numeral seven\",\n",
    "        \"Draft the digit 7\",\n",
    "        \"Illustrate the number seven\"\n",
    "    ],\n",
    "    8: [\n",
    "        \"Draw the digit eight\",\n",
    "        \"Sketch the number 8\",\n",
    "        \"Inscribe the numeral eight\",\n",
    "        \"Draft the digit 8\",\n",
    "        \"Illustrate the number eight\"\n",
    "    ],\n",
    "    9: [\n",
    "        \"Draw the digit nine\",\n",
    "        \"Sketch the number 9\",\n",
    "        \"Inscribe the numeral nine\",\n",
    "        \"Draft the digit 9\",\n",
    "        \"Illustrate the number nine\"\n",
    "    ]\n",
    "}"
   ]
  },
  {
   "cell_type": "code",
   "execution_count": 4,
   "metadata": {},
   "outputs": [
    {
     "name": "stderr",
     "output_type": "stream",
     "text": [
      "/tmp/ipykernel_1620351/4156803524.py:9: UserWarning: Creating a tensor from a list of numpy.ndarrays is extremely slow. Please consider converting the list to a single numpy.ndarray with numpy.array() before converting to a tensor. (Triggered internally at ../torch/csrc/utils/tensor_new.cpp:230.)\n",
      "  task_text_embeddings = torch.tensor([task_text_embeddings[i] for i in range(10)])\n"
     ]
    }
   ],
   "source": [
    "text_encoder =  SentenceTransformer('sentence-transformers/all-MiniLM-L6-v2')\n",
    "\n",
    "task_text_embeddings = {}\n",
    "for class_label, formulations in digit_task_dictionary.items():\n",
    "    # Convert the formulations into embeddings\n",
    "    task_text_embeddings[class_label] = text_encoder.encode(formulations)\n",
    "\n",
    "# Convert to tensor of shape (10, 5, 384)\n",
    "task_text_embeddings = torch.tensor([task_text_embeddings[i] for i in range(10)])"
   ]
  },
  {
   "cell_type": "markdown",
   "metadata": {},
   "source": [
    "## DDPM model"
   ]
  },
  {
   "cell_type": "code",
   "execution_count": 15,
   "metadata": {},
   "outputs": [],
   "source": [
    "class CondDDPM(pl.LightningModule):\n",
    "    \"\"\"\n",
    "    Predicts the noise level for a batch of images.\n",
    "\n",
    "    Args:\n",
    "        input (torch.Tensor): A tensor representing a batch of noisy images.\n",
    "        (batch_size, num_channels, height, width)\n",
    "\n",
    "    Returns:\n",
    "        torch.Tensor: A tensor representing the predicted noise level for each image \n",
    "            in the batch.(batch_size, num_channels, height, width)\n",
    "    \"\"\"\n",
    "    def __init__(\n",
    "            self, noise_predictor,\n",
    "            mask_probability=0.5, \n",
    "            num_diff_steps=1000,\n",
    "            beta_min = 1e-4,\n",
    "            beta_max = 1e-2,\n",
    "            w = 0.3, \n",
    "            task_text_embeddings = task_text_embeddings\n",
    "    ) -> None: \n",
    "        super().__init__()\n",
    "        self.noise_predictor = noise_predictor\n",
    "        self.criterion = torch.nn.MSELoss()\n",
    "        self.mask_probability = mask_probability\n",
    "        self.num_diff_steps = num_diff_steps\n",
    "        self.beta_min = beta_min\n",
    "        self.beta_max = beta_max\n",
    "        betas, alphas, alpha_bars = self.get_alpha_bars()\n",
    "        self.register_buffer(\"betas\", betas)\n",
    "        self.register_buffer(\"alphas\", alphas)\n",
    "        self.register_buffer(\"alpha_bars\", alpha_bars)\n",
    "        self.w = 0.3\n",
    "        self.register_buffer(\"task_text_embeddings\", task_text_embeddings)\n",
    "\n",
    "    def get_alpha_bars(self):\n",
    "        betas = torch.linspace(self.beta_min, self.beta_max, self.num_diff_steps)\n",
    "        alphas = 1 - betas\n",
    "        alpha_bars = torch.cumprod(alphas, dim = 0)\n",
    "        return betas, alphas, alpha_bars\n",
    "    \n",
    "\n",
    "    def prepare_texts(self, y):\n",
    "        \"\"\"Takes in (batch_size, 1), converts to randomly sampled texts,\n",
    "        mask out with self.mask_probability. Outputs (batch_size, num_text_tokens, text_embedding_size)\n",
    "        WIP, naive copilot implementation\n",
    "        \"\"\"\n",
    "\n",
    "        # Choose random task formulation embedding for each sample\n",
    "        y = y.view(-1)\n",
    "        batch_size = y.shape[0]\n",
    "        num_examples = self.task_text_embeddings.shape[1]\n",
    "        random_indices = torch.randint(num_examples, size=(batch_size,))\n",
    "        chosen_embeddings = self.task_text_embeddings[y, random_indices]\n",
    "        \n",
    "        # Mask out the whole embedding (row) with probability self.mask_probability\n",
    "        mask = torch.bernoulli(torch.ones(batch_size) - self.mask_probability).to(chosen_embeddings.device)\n",
    "        mask = mask.view(-1, 1).expand_as(chosen_embeddings)\n",
    "        #print(\"---- devices in prepare_texts ----\")\n",
    "        #print(f\"chosen_embeddings: {chosen_embeddings.device}\")\n",
    "        #print(f\"mask: {mask.device}\")\n",
    "        \n",
    "        chosen_embeddings = chosen_embeddings * mask\n",
    "\n",
    "        return chosen_embeddings\n",
    "    \n",
    "    def forward_diffusion(self, x_0, alpha_bars, noise):\n",
    "        assert x_0.shape[0] == alpha_bars.shape[0], f\"Shape of x_0: {x_0.shape}, shape of alpha_bars: {alpha_bars.shape}\"\n",
    "        alpha_bars = alpha_bars.view(-1, 1, 1, 1)\n",
    "        #print(\"---- devices ----\")\n",
    "        #print(f\"x_0: {x_0.device}\")\n",
    "        #print(f\"alpha_bars: {alpha_bars.device}\")\n",
    "        #print(f\"noise: {noise.device}\")\n",
    "        \n",
    "        x_t = torch.sqrt(alpha_bars) * x_0 + torch.sqrt(1 - alpha_bars) * noise\n",
    "        return x_t\n",
    "\n",
    "    def generate_images_discrete(self, task_embedding):\n",
    "        \"\"\"\n",
    "        Args:\n",
    "            task_embedding (354,)\n",
    "        Output:\n",
    "            generated_image (1, 1, 28, 28)\n",
    "        \"\"\"\n",
    "        x = torch.randn(1, 1, 28, 28)\n",
    "        uncond_embedding = torch.zeros_like(task_embedding)\n",
    "        with torch.no_grad():\n",
    "            for t in tqdm(torch.range(self.num_diff_steps-1, 0, -1, dtype=torch.long)):\n",
    "                if t > 0:\n",
    "                    z = torch.randn(1, 1, 28, 28)\n",
    "                else:\n",
    "                    z = torch.zeros(1, 1, 28, 28)\n",
    "                alpha_t = self.alphas[t]\n",
    "                alpha_bar_t = self.alpha_bars[t]\n",
    "                beta_t = self.betas[t]\n",
    "                #Convert t to float\n",
    "                t = t.float()\n",
    "                noise_pred_uncond = self.noise_predictor(x,uncond_embedding,t)\n",
    "                noise_pred = self.noise_predictor(x,task_embedding,t)\n",
    "                noise_pred_weighted = (1+self.w)*noise_pred - self.w*noise_pred_uncond\n",
    "                x = 1/torch.sqrt(alpha_t) * (x - ((1-alpha_t)/torch.sqrt(1 - alpha_bar_t)) * noise_pred_weighted) + torch.sqrt(beta_t) * z\n",
    "        return x\n",
    "\n",
    "    def forward(self, x, c, t):\n",
    "        return self.noise_predictor(x, c, t)\n",
    "    \n",
    "    def training_step(self, batch):\n",
    "        x, y = batch\n",
    "        masked_y = self.prepare_texts(y)\n",
    "        eps = torch.randn_like(x)\n",
    "        n = len(x)\n",
    "        # sample ts as torch.long from a uniform distribution\n",
    "        ts = torch.randint(0, self.num_diff_steps, (n,), dtype=torch.long, device=self.device)\n",
    "        alpha_bars_ts = self.alpha_bars[ts]\n",
    "        ts = ts.float()\n",
    "        \n",
    "        preds = self.noise_predictor(self.forward_diffusion(x, alpha_bars_ts, eps), masked_y, ts)\n",
    "        loss = self.criterion(preds, eps)\n",
    "        \n",
    "        # log the loss\n",
    "        #losses.append(loss.item())\n",
    "        #print(f\"Epoch {epoch}, Loss {loss.item()}\")\n",
    "        \n",
    "        return loss\n",
    "        \n",
    "    def configure_optimizers(self, lr=1e-3):\n",
    "        return torch.optim.Adam(self.parameters(), lr=lr)\n",
    "    \n",
    "    def on_train_epoch_end(self):\n",
    "        x = self.generate_images_discrete(0)\n",
    "        #x = torch.randn(1, 1, 28, 28).to(self.device)\n",
    "        x = x.view(-1, 28, 28)\n",
    "        #grid = torchvision.utils.make_grid(x)\n",
    "        images = [image for image in x]\n",
    "        self.logger.log_image(\"samples\", images, self.current_epoch)\n"
   ]
  },
  {
   "cell_type": "markdown",
   "metadata": {},
   "source": [
    "### Noise predictor model"
   ]
  },
  {
   "cell_type": "code",
   "execution_count": 16,
   "metadata": {},
   "outputs": [],
   "source": [
    "class ResidualConvBlock(nn.Module):\n",
    "    def __init__(\n",
    "        self, in_channels: int, out_channels: int, is_res: bool = False\n",
    "    ) -> None:\n",
    "        super().__init__()\n",
    "        '''\n",
    "        standard ResNet style convolutional block\n",
    "        '''\n",
    "        self.same_channels = in_channels==out_channels\n",
    "        self.is_res = is_res\n",
    "        self.conv1 = nn.Sequential(\n",
    "            nn.Conv2d(in_channels, out_channels, 3, 1, 1),\n",
    "            nn.BatchNorm2d(out_channels),\n",
    "            nn.GELU(),\n",
    "        )\n",
    "        self.conv2 = nn.Sequential(\n",
    "            nn.Conv2d(out_channels, out_channels, 3, 1, 1),\n",
    "            nn.BatchNorm2d(out_channels),\n",
    "            nn.GELU(),\n",
    "        )\n",
    "\n",
    "    def forward(self, x: torch.Tensor) -> torch.Tensor:\n",
    "        if self.is_res:\n",
    "            x1 = self.conv1(x)\n",
    "            x2 = self.conv2(x1)\n",
    "            # this adds on correct residual in case channels have increased\n",
    "            if self.same_channels:\n",
    "                out = x + x2\n",
    "            else:\n",
    "                out = x1 + x2 \n",
    "            return out / 1.414\n",
    "        else:\n",
    "            x1 = self.conv1(x)\n",
    "            x2 = self.conv2(x1)\n",
    "            return x2\n",
    "\n",
    "\n",
    "class UnetDown(nn.Module):\n",
    "    def __init__(self, in_channels, out_channels):\n",
    "        super(UnetDown, self).__init__()\n",
    "        '''\n",
    "        process and downscale the image feature maps\n",
    "        '''\n",
    "        layers = [ResidualConvBlock(in_channels, out_channels), nn.MaxPool2d(2)]\n",
    "        self.model = nn.Sequential(*layers)\n",
    "\n",
    "    def forward(self, x):\n",
    "        return self.model(x)\n",
    "\n",
    "\n",
    "class UnetUp(nn.Module):\n",
    "    def __init__(self, in_channels, out_channels):\n",
    "        super(UnetUp, self).__init__()\n",
    "        '''\n",
    "        process and upscale the image feature maps\n",
    "        '''\n",
    "        layers = [\n",
    "            nn.ConvTranspose2d(in_channels, out_channels, 2, 2),\n",
    "            ResidualConvBlock(out_channels, out_channels),\n",
    "            ResidualConvBlock(out_channels, out_channels),\n",
    "        ]\n",
    "        self.model = nn.Sequential(*layers)\n",
    "\n",
    "    def forward(self, x, skip):\n",
    "        x = torch.cat((x, skip), 1)\n",
    "        x = self.model(x)\n",
    "        return x\n",
    "\n",
    "\n",
    "class EmbedFC(nn.Module):\n",
    "    \"\"\"Used for embedding context and diffusion time step\"\"\"\n",
    "    def __init__(self, input_dim, emb_dim):\n",
    "        super(EmbedFC, self).__init__()\n",
    "        '''\n",
    "        generic one layer FC NN for embedding things  \n",
    "        '''\n",
    "        self.input_dim = input_dim\n",
    "        layers = [\n",
    "            nn.Linear(input_dim, emb_dim),\n",
    "            nn.GELU(),\n",
    "            nn.Linear(emb_dim, emb_dim),\n",
    "        ]\n",
    "        self.model = nn.Sequential(*layers)\n",
    "\n",
    "    def forward(self, x):\n",
    "        \"\"\" print(\"--- devices in EmbedFC ---\")\n",
    "        print(f\"x: {x.device} \\n\")\n",
    "        print(f\"self.model: {self.model[0].weight.device} \\n\") \"\"\"\n",
    "\n",
    "        x = x.view(-1, self.input_dim)\n",
    "        return self.model(x)\n",
    "\n",
    "\n",
    "class ContextUnet(nn.Module):\n",
    "    \"\"\" Based on this architecture: https://github.com/TeaPearce/Conditional_Diffusion_MNIST/blob/main/script.py\"\"\"\n",
    "    def __init__(self, in_channels = 1, n_feat = 256, context_dim=384):\n",
    "        super(ContextUnet, self).__init__()\n",
    "\n",
    "        self.in_channels = in_channels\n",
    "        self.n_feat = n_feat\n",
    "        self.n_classes = context_dim\n",
    "\n",
    "        self.init_conv = ResidualConvBlock(in_channels, n_feat, is_res=True)\n",
    "\n",
    "        self.down1 = UnetDown(n_feat, n_feat)\n",
    "        self.down2 = UnetDown(n_feat, 2 * n_feat)\n",
    "\n",
    "        self.to_vec = nn.Sequential(nn.AvgPool2d(7), nn.GELU())\n",
    "\n",
    "        self.timeembed1 = EmbedFC(1, 2*n_feat)\n",
    "        self.timeembed2 = EmbedFC(1, 1*n_feat)\n",
    "        self.contextembed1 = EmbedFC(self.n_classes, 2*n_feat)\n",
    "        self.contextembed2 = EmbedFC(self.n_classes, 1*n_feat)\n",
    "\n",
    "        self.up0 = nn.Sequential(\n",
    "            # nn.ConvTranspose2d(6 * n_feat, 2 * n_feat, 7, 7), # when concat temb and cemb end up w 6*n_feat\n",
    "            nn.ConvTranspose2d(2 * n_feat, 2 * n_feat, 7, 7), # otherwise just have 2*n_feat\n",
    "            nn.GroupNorm(8, 2 * n_feat),\n",
    "            nn.ReLU(),\n",
    "        )\n",
    "\n",
    "        self.up1 = UnetUp(4 * n_feat, n_feat)\n",
    "        self.up2 = UnetUp(2 * n_feat, n_feat)\n",
    "        self.out = nn.Sequential(\n",
    "            nn.Conv2d(2 * n_feat, n_feat, 3, 1, 1),\n",
    "            nn.GroupNorm(8, n_feat),\n",
    "            nn.ReLU(),\n",
    "            nn.Conv2d(n_feat, self.in_channels, 3, 1, 1),\n",
    "        )\n",
    "\n",
    "    def forward(self, x, c, t):\n",
    "        # x is (noisy) image, c is context label, t is timestep, \n",
    "        # context_mask says which samples to block the context on\n",
    "        x = self.init_conv(x)\n",
    "        down1 = self.down1(x)\n",
    "        down2 = self.down2(down1)\n",
    "        hiddenvec = self.to_vec(down2)\n",
    "        \n",
    "        # embed context, time step\n",
    "        cemb1 = self.contextembed1(c).view(-1, self.n_feat * 2, 1, 1)\n",
    "        temb1 = self.timeembed1(t).view(-1, self.n_feat * 2, 1, 1)\n",
    "        cemb2 = self.contextembed2(c).view(-1, self.n_feat, 1, 1)\n",
    "        temb2 = self.timeembed2(t).view(-1, self.n_feat, 1, 1)\n",
    "\n",
    "        # could concatenate the context embedding here instead of adaGN\n",
    "        # hiddenvec = torch.cat((hiddenvec, temb1, cemb1), 1)\n",
    "\n",
    "        up1 = self.up0(hiddenvec)\n",
    "        # up2 = self.up1(up1, down2) # if want to avoid add and multiply embeddings\n",
    "        #print(\"shape of cemb1\", cemb1.shape)\n",
    "        #print(\"shape of up1\", up1.shape)\n",
    "        #print(\"shape of temb1\", temb1.shape)\n",
    "        up2 = self.up1(cemb1*up1+ temb1, down2)  # add and multiply embeddings\n",
    "        up3 = self.up2(cemb2*up2+ temb2, down1)\n",
    "        out = self.out(torch.cat((up3, x), 1))\n",
    "        return out\n",
    "\n",
    "\n",
    "ddpm = CondDDPM(ContextUnet())"
   ]
  },
  {
   "cell_type": "markdown",
   "metadata": {},
   "source": [
    "## Load the data"
   ]
  },
  {
   "cell_type": "code",
   "execution_count": 7,
   "metadata": {},
   "outputs": [],
   "source": [
    "def show_images(images, title=\"\"):\n",
    "    images = images.detach()\n",
    "    fig = plt.figure(figsize=(4, 4))\n",
    "    cols = math.ceil(len(images) ** (1 / 2))\n",
    "    rows = math.ceil(len(images) / cols)\n",
    "    for r in range(rows):\n",
    "        for c in range(cols):\n",
    "            idx = cols * r + c\n",
    "            ax = fig.add_subplot(rows, cols, idx + 1)\n",
    "            ax.axis('off')\n",
    "            if idx < len(images):\n",
    "                ax.imshow(images[idx][0], cmap=\"gray\")\n",
    "    fig.suptitle(title, fontsize=18)\n",
    "    plt.show()"
   ]
  },
  {
   "cell_type": "code",
   "execution_count": 8,
   "metadata": {},
   "outputs": [],
   "source": [
    "transform = Compose([\n",
    "    ToTensor(),\n",
    "    Lambda(lambda x: (x - 0.5) * 2)]\n",
    ")\n",
    "dataset = MNIST(\"./datasets\", download=True, train=True, transform=transform)"
   ]
  },
  {
   "cell_type": "markdown",
   "metadata": {},
   "source": [
    "## Fit the model"
   ]
  },
  {
   "cell_type": "code",
   "execution_count": 9,
   "metadata": {},
   "outputs": [],
   "source": [
    "# hyperparameters\n",
    "batch_size = 64\n",
    "num_epochs = 10"
   ]
  },
  {
   "cell_type": "code",
   "execution_count": 10,
   "metadata": {},
   "outputs": [],
   "source": [
    "loader = DataLoader(dataset, batch_size, shuffle=True, num_workers=64)"
   ]
  },
  {
   "cell_type": "code",
   "execution_count": 12,
   "metadata": {},
   "outputs": [
    {
     "name": "stderr",
     "output_type": "stream",
     "text": [
      "Failed to detect the name of this notebook, you can set it manually with the WANDB_NOTEBOOK_NAME environment variable to enable code saving.\n",
      "\u001b[34m\u001b[1mwandb\u001b[0m: Currently logged in as: \u001b[33msigmundhh\u001b[0m. Use \u001b[1m`wandb login --relogin`\u001b[0m to force relogin\n"
     ]
    },
    {
     "data": {
      "text/html": [
       "wandb version 0.15.7 is available!  To upgrade, please run:\n",
       " $ pip install wandb --upgrade"
      ],
      "text/plain": [
       "<IPython.core.display.HTML object>"
      ]
     },
     "metadata": {},
     "output_type": "display_data"
    },
    {
     "data": {
      "text/html": [
       "Tracking run with wandb version 0.15.3"
      ],
      "text/plain": [
       "<IPython.core.display.HTML object>"
      ]
     },
     "metadata": {},
     "output_type": "display_data"
    },
    {
     "data": {
      "text/html": [
       "Run data is saved locally in <code>./wandb/run-20230726_110514-ekuf7gym</code>"
      ],
      "text/plain": [
       "<IPython.core.display.HTML object>"
      ]
     },
     "metadata": {},
     "output_type": "display_data"
    },
    {
     "data": {
      "text/html": [
       "Syncing run <strong><a href='https://wandb.ai/sigmundhh/language-cond-ddpm-lightning/runs/ekuf7gym' target=\"_blank\">dashing-waterfall-1</a></strong> to <a href='https://wandb.ai/sigmundhh/language-cond-ddpm-lightning' target=\"_blank\">Weights & Biases</a> (<a href='https://wandb.me/run' target=\"_blank\">docs</a>)<br/>"
      ],
      "text/plain": [
       "<IPython.core.display.HTML object>"
      ]
     },
     "metadata": {},
     "output_type": "display_data"
    },
    {
     "data": {
      "text/html": [
       " View project at <a href='https://wandb.ai/sigmundhh/language-cond-ddpm-lightning' target=\"_blank\">https://wandb.ai/sigmundhh/language-cond-ddpm-lightning</a>"
      ],
      "text/plain": [
       "<IPython.core.display.HTML object>"
      ]
     },
     "metadata": {},
     "output_type": "display_data"
    },
    {
     "data": {
      "text/html": [
       " View run at <a href='https://wandb.ai/sigmundhh/language-cond-ddpm-lightning/runs/ekuf7gym' target=\"_blank\">https://wandb.ai/sigmundhh/language-cond-ddpm-lightning/runs/ekuf7gym</a>"
      ],
      "text/plain": [
       "<IPython.core.display.HTML object>"
      ]
     },
     "metadata": {},
     "output_type": "display_data"
    },
    {
     "name": "stderr",
     "output_type": "stream",
     "text": [
      "GPU available: True (cuda), used: True\n",
      "TPU available: False, using: 0 TPU cores\n",
      "IPU available: False, using: 0 IPUs\n",
      "HPU available: False, using: 0 HPUs\n",
      "LOCAL_RANK: 0 - CUDA_VISIBLE_DEVICES: [0]\n",
      "\n",
      "  | Name            | Type        | Params\n",
      "------------------------------------------------\n",
      "0 | noise_predictor | ContextUnet | 26.6 M\n",
      "1 | criterion       | MSELoss     | 0     \n",
      "------------------------------------------------\n",
      "26.6 M    Trainable params\n",
      "0         Non-trainable params\n",
      "26.6 M    Total params\n",
      "106.394   Total estimated model params size (MB)\n"
     ]
    },
    {
     "name": "stdout",
     "output_type": "stream",
     "text": [
      "Epoch 2:  19%|█▉        | 176/938 [04:18<18:38,  1.47s/it, loss=0.042, v_num=7]gym]\n",
      "Epoch 9: 100%|██████████| 938/938 [01:30<00:00, 10.39it/s, loss=0.0355, v_num=7gym]"
     ]
    },
    {
     "name": "stderr",
     "output_type": "stream",
     "text": [
      "`Trainer.fit` stopped: `max_epochs=10` reached.\n"
     ]
    },
    {
     "name": "stdout",
     "output_type": "stream",
     "text": [
      "Epoch 9: 100%|██████████| 938/938 [01:30<00:00, 10.32it/s, loss=0.0355, v_num=7gym]\n"
     ]
    }
   ],
   "source": [
    "wandb_logger = WandbLogger(project=\"language-cond-ddpm-lightning\")\n",
    "trainer = pl.Trainer(max_epochs=num_epochs, \n",
    "                     logger=wandb_logger, devices=1, \n",
    "                     accelerator='gpu',\n",
    "                     profiler=\"simple\")\n",
    "trainer.fit(ddpm, loader)   "
   ]
  },
  {
   "cell_type": "code",
   "execution_count": 13,
   "metadata": {},
   "outputs": [],
   "source": [
    "# save the model\n",
    "torch.save(ddpm.state_dict(), \"checkpoints/lang_cond_ddpm_new.ckpt\")"
   ]
  },
  {
   "cell_type": "markdown",
   "metadata": {},
   "source": [
    "## Interactive sampling"
   ]
  },
  {
   "cell_type": "code",
   "execution_count": 25,
   "metadata": {},
   "outputs": [
    {
     "name": "stderr",
     "output_type": "stream",
     "text": [
      "/tmp/ipykernel_1620351/3367322763.py:88: UserWarning: torch.range is deprecated and will be removed in a future release because its behavior is inconsistent with Python's range builtin. Instead, use torch.arange, which produces values in [start, end).\n",
      "  for t in tqdm(torch.range(self.num_diff_steps-1, 0, -1, dtype=torch.long)):\n",
      "100%|██████████| 1000/1000 [00:58<00:00, 17.21it/s]\n"
     ]
    },
    {
     "data": {
      "image/png": "[encoded data removed]",
      "text/plain": [
       "<Figure size 400x400 with 1 Axes>"
      ]
     },
     "metadata": {},
     "output_type": "display_data"
    }
   ],
   "source": [
    "#load the model\n",
    "ddpm.load_state_dict(torch.load(\"checkpoints/lang_cond_ddpm.ckpt\"))\n",
    "\n",
    "query = \"Draw the result of 1+1\"\n",
    "query_embedding = torch.tensor(text_encoder.encode(query))\n",
    "\n",
    "show_images(ddpm.generate_images_discrete(query_embedding), title=query)\n",
    "    "
   ]
  },
  {
   "cell_type": "code",
   "execution_count": null,
   "metadata": {},
   "outputs": [],
   "source": []
  }
 ],
 "metadata": {
  "kernelspec": {
   "display_name": "pl_env",
   "language": "python",
   "name": "python3"
  },
  "language_info": {
   "codemirror_mode": {
    "name": "ipython",
    "version": 3
   },
   "file_extension": ".py",
   "mimetype": "text/x-python",
   "name": "python",
   "nbconvert_exporter": "python",
   "pygments_lexer": "ipython3",
   "version": "3.8.16"
  },
  "orig_nbformat": 4
 },
 "nbformat": 4,
 "nbformat_minor": 2
}
