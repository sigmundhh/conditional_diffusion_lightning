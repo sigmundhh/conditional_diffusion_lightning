{
 "cells": [
  {
   "cell_type": "code",
   "execution_count": 2,
   "metadata": {},
   "outputs": [
    {
     "name": "stderr",
     "output_type": "stream",
     "text": [
      "/home/sigmund/miniconda3/envs/calvin_venv/lib/python3.8/site-packages/tqdm/auto.py:21: TqdmWarning: IProgress not found. Please update jupyter and ipywidgets. See https://ipywidgets.readthedocs.io/en/stable/user_install.html\n",
      "  from .autonotebook import tqdm as notebook_tqdm\n"
     ]
    }
   ],
   "source": [
    "import random\n",
    "import math\n",
    "\n",
    "import pytorch_lightning as pl\n",
    "import torch\n",
    "import torch.nn as nn \n",
    "import torch.nn.functional as F\n",
    "from pytorch_lightning.loggers.wandb import WandbLogger\n",
    "\n",
    "from tqdm import tqdm\n",
    "\n",
    "import matplotlib.pyplot as plt\n",
    "\n",
    "from torch.utils.data import DataLoader\n",
    "from torchvision.transforms import Compose, ToTensor, Lambda\n",
    "from torchvision.datasets.mnist import MNIST\n",
    "import torchvision\n",
    "\n",
    "import PIL"
   ]
  },
  {
   "cell_type": "code",
   "execution_count": 3,
   "metadata": {},
   "outputs": [],
   "source": [
    "# hyperparameters\n",
    "batch_size = 64\n",
    "num_epochs = 10"
   ]
  },
  {
   "cell_type": "markdown",
   "metadata": {},
   "source": [
    "## Utilities\n",
    "For showing a batch of images"
   ]
  },
  {
   "cell_type": "code",
   "execution_count": 4,
   "metadata": {},
   "outputs": [],
   "source": [
    "def show_images(images, title=\"\"):\n",
    "    images = images.detach()\n",
    "    fig = plt.figure(figsize=(4, 4))\n",
    "    cols = math.ceil(len(images) ** (1 / 2))\n",
    "    rows = math.ceil(len(images) / cols)\n",
    "    for r in range(rows):\n",
    "        for c in range(cols):\n",
    "            idx = cols * r + c\n",
    "            ax = fig.add_subplot(rows, cols, idx + 1)\n",
    "            ax.axis('off')\n",
    "            if idx < len(images):\n",
    "                ax.imshow(images[idx][0], cmap=\"gray\")\n",
    "    fig.suptitle(title, fontsize=18)\n",
    "    plt.show()"
   ]
  },
  {
   "cell_type": "markdown",
   "metadata": {},
   "source": [
    "## The conditional DDPM class\n",
    "This is PyTorch-lightning module, and is responsible for training the reverse diffusion noise-predictor"
   ]
  },
  {
   "cell_type": "code",
   "execution_count": 5,
   "metadata": {},
   "outputs": [],
   "source": [
    "class CondDDPM(pl.LightningModule):\n",
    "    \"\"\"\n",
    "    Predicts the noise level for a batch of images.\n",
    "\n",
    "    Args:\n",
    "        input (torch.Tensor): A tensor representing a batch of noisy images.\n",
    "        (batch_size, num_channels, height, width)\n",
    "\n",
    "    Returns:\n",
    "        torch.Tensor: A tensor representing the predicted noise level for each image \n",
    "            in the batch.(batch_size, num_channels, height, width)\n",
    "    \"\"\"\n",
    "    def __init__(\n",
    "            self, noise_predictor,\n",
    "            mask_probability=0.5, \n",
    "            num_diff_steps=1000,\n",
    "            beta_min = 1e-4,\n",
    "            beta_max = 1e-2,\n",
    "            w = 0.3\n",
    "    ) -> None: \n",
    "        super().__init__()\n",
    "        self.noise_predictor = noise_predictor\n",
    "        self.criterion = torch.nn.MSELoss()\n",
    "        self.mask_probability = mask_probability\n",
    "        self.num_diff_steps = num_diff_steps\n",
    "        self.beta_min = beta_min\n",
    "        self.beta_max = beta_max\n",
    "        betas, alphas, alpha_bars = self.get_alpha_bars()\n",
    "        self.register_buffer(\"betas\", betas)\n",
    "        self.register_buffer(\"alphas\", alphas)\n",
    "        self.register_buffer(\"alpha_bars\", alpha_bars)\n",
    "        self.w = 0.3\n",
    "\n",
    "    def get_alpha_bars(self):\n",
    "        betas = torch.linspace(self.beta_min, self.beta_max, self.num_diff_steps)\n",
    "        alphas = 1 - betas\n",
    "        alpha_bars = torch.cumprod(alphas, dim = 0)\n",
    "        return betas, alphas, alpha_bars\n",
    "\n",
    "    def mask_classes(self, y):\n",
    "        \"\"\"Takes in (batch_size, 1), converts to 1-hot and masks\n",
    "        out with probability mask_probability, returns (batch_size, 10)\n",
    "        \"\"\"\n",
    "        context_mask = torch.bernoulli(torch.zeros_like(y) + self.mask_probability)\n",
    "        y = nn.functional.one_hot(y, num_classes=10).type(torch.float)\n",
    "        context_mask = context_mask[:, None]\n",
    "        context_mask = context_mask.repeat(1,10)\n",
    "        context_mask = (1-context_mask) # need to flip 0 <-> 1\n",
    "        y = y * context_mask\n",
    "        return y\n",
    "    \n",
    "    def forward_diffusion(self, x_0, alpha_bars, noise):\n",
    "        assert x_0.shape[0] == alpha_bars.shape[0], f\"Shape of x_0: {x_0.shape}, shape of alpha_bars: {alpha_bars.shape}\"\n",
    "        alpha_bars = alpha_bars.view(-1, 1, 1, 1)\n",
    "        \"\"\" print(\"---- devices ----\")\n",
    "        print(f\"x_0: {x_0.device}\")\n",
    "        print(f\"alpha_bars: {alpha_bars.device}\")\n",
    "        print(f\"noise: {noise.device}\") \"\"\"\n",
    "        \n",
    "        x_t = torch.sqrt(alpha_bars) * x_0 + torch.sqrt(1 - alpha_bars) * noise\n",
    "        return x_t\n",
    "\n",
    "    def generate_images_discrete(self, class_label):\n",
    "        with torch.no_grad():\n",
    "            x = torch.randn(1, 1, 28, 28).to(self.device)\n",
    "            c = F.one_hot(torch.tensor(class_label), 10).float().to(self.device)\n",
    "            c_uncond = torch.zeros(1, 10).to(self.device)\n",
    "            for t in tqdm(torch.range(self.num_diff_steps-1, 0, -1, dtype=torch.long, device=self.device)):\n",
    "                if t > 0:\n",
    "                    z = torch.randn(1, 1, 28, 28).to(self.device)\n",
    "                else:\n",
    "                    z = torch.zeros(1, 1, 28, 28).to(self.device)\n",
    "                alpha_t = self.alphas[t]\n",
    "                alpha_bar_t = self.alpha_bars[t]\n",
    "                beta_t = self.betas[t]\n",
    "                #Convert t to float\n",
    "                t = t.float()\n",
    "                \"\"\" print(\"---- devices in generate_images_discrete ----\")\n",
    "                print(f\"x: {x.device}\")\n",
    "                print(f\"c: {c.device}\")\n",
    "                print(f\"c_uncond: {c_uncond.device}\")\n",
    "                print(f\"t: {t.device}\")\n",
    "                print(f\"z: {z.device}\")\n",
    "                print(f\"alpha_t: {alpha_t.device}\")\n",
    "                print(f\"alpha_bar_t: {alpha_bar_t.device}\")\n",
    "                print(f\"beta_t: {beta_t.device}\") \"\"\"\n",
    "\n",
    "                noise_pred_uncond = self.noise_predictor(x,c_uncond,t)\n",
    "                noise_pred = self.noise_predictor(x,c,t)\n",
    "                noise_pred_weighted = (1+self.w)*noise_pred - self.w*noise_pred_uncond\n",
    "                x = 1/torch.sqrt(alpha_t) * (x - ((1-alpha_t)/torch.sqrt(1 - alpha_bar_t)) * noise_pred_weighted) + torch.sqrt(beta_t) * z\n",
    "        return x\n",
    "\n",
    "    def forward(self, x, c, t):\n",
    "        return self.noise_predictor(x, c, t)\n",
    "    \n",
    "    def training_step(self, batch):\n",
    "        x, y = batch\n",
    "        masked_y = self.mask_classes(y)\n",
    "        eps = torch.randn_like(x)\n",
    "        n = len(x)\n",
    "        # sample ts as torch.long from a uniform distribution\n",
    "        ts = torch.randint(0, self.num_diff_steps, (n,), dtype=torch.long, device=self.device)\n",
    "        alpha_bars_ts = self.alpha_bars[ts]\n",
    "        ts = ts.float()\n",
    "\n",
    "        noisy_imgs = self.forward_diffusion(x, alpha_bars_ts, eps)\n",
    "        \n",
    "        \"\"\" print(\"---- devices before prediction ----\")\n",
    "        print(f\"noisy_imgs: {noisy_imgs.device}\")\n",
    "        print(f\"masked_y: {masked_y.device}\")\n",
    "        print(f\"ts: {ts.device}\") \"\"\"\n",
    "        \n",
    "        preds = self.noise_predictor(noisy_imgs, masked_y, ts)\n",
    "        loss = self.criterion(preds, eps)\n",
    "        \n",
    "        # log the loss\n",
    "        #losses.append(loss.item())\n",
    "        #print(f\"Epoch {epoch}, Loss {loss.item()}\")\n",
    "        \n",
    "        return loss\n",
    "        \n",
    "    def configure_optimizers(self, lr=1e-3):\n",
    "        return torch.optim.Adam(self.parameters(), lr=lr)\n",
    "    \n",
    "    def on_train_epoch_end(self):\n",
    "        x = self.generate_images_discrete(0)\n",
    "        #x = torch.randn(1, 1, 28, 28).to(self.device)\n",
    "        x = x.view(-1, 28, 28)\n",
    "        #grid = torchvision.utils.make_grid(x)\n",
    "        images = [image for image in x]\n",
    "        self.logger.log_image(\"samples\", images, self.current_epoch)"
   ]
  },
  {
   "cell_type": "markdown",
   "metadata": {},
   "source": [
    "## The noise predictor"
   ]
  },
  {
   "cell_type": "code",
   "execution_count": 6,
   "metadata": {},
   "outputs": [],
   "source": [
    "class ResidualConvBlock(nn.Module):\n",
    "    def __init__(\n",
    "        self, in_channels: int, out_channels: int, is_res: bool = False\n",
    "    ) -> None:\n",
    "        super().__init__()\n",
    "        '''\n",
    "        standard ResNet style convolutional block\n",
    "        '''\n",
    "        self.same_channels = in_channels==out_channels\n",
    "        self.is_res = is_res\n",
    "        self.conv1 = nn.Sequential(\n",
    "            nn.Conv2d(in_channels, out_channels, 3, 1, 1),\n",
    "            nn.BatchNorm2d(out_channels),\n",
    "            nn.GELU(),\n",
    "        )\n",
    "        self.conv2 = nn.Sequential(\n",
    "            nn.Conv2d(out_channels, out_channels, 3, 1, 1),\n",
    "            nn.BatchNorm2d(out_channels),\n",
    "            nn.GELU(),\n",
    "        )\n",
    "\n",
    "    def forward(self, x: torch.Tensor) -> torch.Tensor:\n",
    "        if self.is_res:\n",
    "            x1 = self.conv1(x)\n",
    "            x2 = self.conv2(x1)\n",
    "            # this adds on correct residual in case channels have increased\n",
    "            if self.same_channels:\n",
    "                out = x + x2\n",
    "            else:\n",
    "                out = x1 + x2 \n",
    "            return out / 1.414\n",
    "        else:\n",
    "            x1 = self.conv1(x)\n",
    "            x2 = self.conv2(x1)\n",
    "            return x2\n",
    "\n",
    "\n",
    "class UnetDown(nn.Module):\n",
    "    def __init__(self, in_channels, out_channels):\n",
    "        super(UnetDown, self).__init__()\n",
    "        '''\n",
    "        process and downscale the image feature maps\n",
    "        '''\n",
    "        layers = [ResidualConvBlock(in_channels, out_channels), nn.MaxPool2d(2)]\n",
    "        self.model = nn.Sequential(*layers)\n",
    "\n",
    "    def forward(self, x):\n",
    "        return self.model(x)\n",
    "\n",
    "\n",
    "class UnetUp(nn.Module):\n",
    "    def __init__(self, in_channels, out_channels):\n",
    "        super(UnetUp, self).__init__()\n",
    "        '''\n",
    "        process and upscale the image feature maps\n",
    "        '''\n",
    "        layers = [\n",
    "            nn.ConvTranspose2d(in_channels, out_channels, 2, 2),\n",
    "            ResidualConvBlock(out_channels, out_channels),\n",
    "            ResidualConvBlock(out_channels, out_channels),\n",
    "        ]\n",
    "        self.model = nn.Sequential(*layers)\n",
    "\n",
    "    def forward(self, x, skip):\n",
    "        x = torch.cat((x, skip), 1)\n",
    "        x = self.model(x)\n",
    "        return x\n",
    "\n",
    "\n",
    "class EmbedFC(nn.Module):\n",
    "    \"\"\"Used for embedding context and diffusion time step\"\"\"\n",
    "    def __init__(self, input_dim, emb_dim):\n",
    "        super(EmbedFC, self).__init__()\n",
    "        '''\n",
    "        generic one layer FC NN for embedding things  \n",
    "        '''\n",
    "        self.input_dim = input_dim\n",
    "        layers = [\n",
    "            nn.Linear(input_dim, emb_dim),\n",
    "            nn.GELU(),\n",
    "            nn.Linear(emb_dim, emb_dim),\n",
    "        ]\n",
    "        self.model = nn.Sequential(*layers)\n",
    "\n",
    "    def forward(self, x):\n",
    "        \"\"\" print(\"--- devices in EmbedFC ---\")\n",
    "        print(f\"x: {x.device} \\n\")\n",
    "        print(f\"self.model: {self.model[0].weight.device} \\n\") \"\"\"\n",
    "\n",
    "        x = x.view(-1, self.input_dim)\n",
    "        return self.model(x)\n",
    "\n",
    "\n",
    "class ContextUnet(nn.Module):\n",
    "    \"\"\" Based on this architecture: https://github.com/TeaPearce/Conditional_Diffusion_MNIST/blob/main/script.py\"\"\"\n",
    "    def __init__(self, in_channels, n_feat = 256, n_classes=10):\n",
    "        super(ContextUnet, self).__init__()\n",
    "\n",
    "        self.in_channels = in_channels\n",
    "        self.n_feat = n_feat\n",
    "        self.n_classes = n_classes\n",
    "\n",
    "        self.init_conv = ResidualConvBlock(in_channels, n_feat, is_res=True)\n",
    "\n",
    "        self.down1 = UnetDown(n_feat, n_feat)\n",
    "        self.down2 = UnetDown(n_feat, 2 * n_feat)\n",
    "\n",
    "        self.to_vec = nn.Sequential(nn.AvgPool2d(7), nn.GELU())\n",
    "\n",
    "        self.timeembed1 = EmbedFC(1, 2*n_feat)\n",
    "        self.timeembed2 = EmbedFC(1, 1*n_feat)\n",
    "        self.contextembed1 = EmbedFC(n_classes, 2*n_feat)\n",
    "        self.contextembed2 = EmbedFC(n_classes, 1*n_feat)\n",
    "\n",
    "        self.up0 = nn.Sequential(\n",
    "            # nn.ConvTranspose2d(6 * n_feat, 2 * n_feat, 7, 7), # when concat temb and cemb end up w 6*n_feat\n",
    "            nn.ConvTranspose2d(2 * n_feat, 2 * n_feat, 7, 7), # otherwise just have 2*n_feat\n",
    "            nn.GroupNorm(8, 2 * n_feat),\n",
    "            nn.ReLU(),\n",
    "        )\n",
    "\n",
    "        self.up1 = UnetUp(4 * n_feat, n_feat)\n",
    "        self.up2 = UnetUp(2 * n_feat, n_feat)\n",
    "        self.out = nn.Sequential(\n",
    "            nn.Conv2d(2 * n_feat, n_feat, 3, 1, 1),\n",
    "            nn.GroupNorm(8, n_feat),\n",
    "            nn.ReLU(),\n",
    "            nn.Conv2d(n_feat, self.in_channels, 3, 1, 1),\n",
    "        )\n",
    "\n",
    "    def forward(self, x, c, t):\n",
    "        # x is (noisy) image, c is context label, t is timestep, \n",
    "        # context_mask says which samples to block the context on\n",
    "        x = self.init_conv(x)\n",
    "        down1 = self.down1(x)\n",
    "        down2 = self.down2(down1)\n",
    "        hiddenvec = self.to_vec(down2)\n",
    "        \n",
    "        # embed context, time step\n",
    "        cemb1 = self.contextembed1(c).view(-1, self.n_feat * 2, 1, 1)\n",
    "        temb1 = self.timeembed1(t).view(-1, self.n_feat * 2, 1, 1)\n",
    "        cemb2 = self.contextembed2(c).view(-1, self.n_feat, 1, 1)\n",
    "        temb2 = self.timeembed2(t).view(-1, self.n_feat, 1, 1)\n",
    "\n",
    "        # could concatenate the context embedding here instead of adaGN\n",
    "        # hiddenvec = torch.cat((hiddenvec, temb1, cemb1), 1)\n",
    "\n",
    "        up1 = self.up0(hiddenvec)\n",
    "        # up2 = self.up1(up1, down2) # if want to avoid add and multiply embeddings\n",
    "        #print(\"shape of cemb1\", cemb1.shape)\n",
    "        #print(\"shape of up1\", up1.shape)\n",
    "        #print(\"shape of temb1\", temb1.shape)\n",
    "        up2 = self.up1(cemb1*up1+ temb1, down2)  # add and multiply embeddings\n",
    "        up3 = self.up2(cemb2*up2+ temb2, down1)\n",
    "        out = self.out(torch.cat((up3, x), 1))\n",
    "        return out"
   ]
  },
  {
   "cell_type": "markdown",
   "metadata": {},
   "source": [
    "## Utilites\n",
    "For showing the pictures from the dataset, and the generated pictures"
   ]
  },
  {
   "cell_type": "code",
   "execution_count": 7,
   "metadata": {},
   "outputs": [],
   "source": [
    "\"\"\"\n",
    "This function plots images in a grid. Input is a Tensor.\n",
    "See show_first_batch to see how it is used.\n",
    "\"\"\"\n",
    "def show_images(images, title=\"\"):\n",
    "    images = images.detach()\n",
    "    fig = plt.figure(figsize=(4, 4))\n",
    "    cols = math.ceil(len(images) ** (1 / 2))\n",
    "    rows = math.ceil(len(images) / cols)\n",
    "    for r in range(rows):\n",
    "        for c in range(cols):\n",
    "            idx = cols * r + c\n",
    "            ax = fig.add_subplot(rows, cols, idx + 1)\n",
    "            ax.axis('off')\n",
    "            if idx < len(images):\n",
    "                ax.imshow(images[idx][0], cmap=\"gray\")\n",
    "    fig.suptitle(title, fontsize=18)\n",
    "    plt.show()"
   ]
  },
  {
   "cell_type": "markdown",
   "metadata": {},
   "source": [
    "### Loading the dataset"
   ]
  },
  {
   "cell_type": "code",
   "execution_count": 8,
   "metadata": {},
   "outputs": [],
   "source": [
    "transform = Compose([\n",
    "    ToTensor(),\n",
    "    Lambda(lambda x: (x - 0.5) * 2)]\n",
    ")\n",
    "dataset = MNIST(\"./datasets\", download=True, train=True, transform=transform)\n",
    "loader = DataLoader(dataset, batch_size, shuffle=True, num_workers=64)"
   ]
  },
  {
   "cell_type": "code",
   "execution_count": 9,
   "metadata": {},
   "outputs": [
    {
     "data": {
      "image/png": "[encoded data removed]",
      "text/plain": [
       "<Figure size 400x400 with 64 Axes>"
      ]
     },
     "metadata": {},
     "output_type": "display_data"
    }
   ],
   "source": [
    "def show_first_batch(loader):\n",
    "    for batch in loader:\n",
    "        show_images(batch[0], \"Images in the first batch\")\n",
    "        break\n",
    "show_first_batch(loader)"
   ]
  },
  {
   "cell_type": "markdown",
   "metadata": {},
   "source": [
    "## Fitting the model"
   ]
  },
  {
   "cell_type": "code",
   "execution_count": 10,
   "metadata": {},
   "outputs": [
    {
     "name": "stderr",
     "output_type": "stream",
     "text": [
      "Failed to detect the name of this notebook, you can set it manually with the WANDB_NOTEBOOK_NAME environment variable to enable code saving.\n",
      "\u001b[34m\u001b[1mwandb\u001b[0m: Currently logged in as: \u001b[33msigmundhh\u001b[0m. Use \u001b[1m`wandb login --relogin`\u001b[0m to force relogin\n"
     ]
    },
    {
     "data": {
      "text/html": [
       "wandb version 0.15.5 is available!  To upgrade, please run:\n",
       " $ pip install wandb --upgrade"
      ],
      "text/plain": [
       "<IPython.core.display.HTML object>"
      ]
     },
     "metadata": {},
     "output_type": "display_data"
    },
    {
     "data": {
      "text/html": [
       "Tracking run with wandb version 0.15.3"
      ],
      "text/plain": [
       "<IPython.core.display.HTML object>"
      ]
     },
     "metadata": {},
     "output_type": "display_data"
    },
    {
     "data": {
      "text/html": [
       "Run data is saved locally in <code>./wandb/run-20230724_160532-vhf49hi2</code>"
      ],
      "text/plain": [
       "<IPython.core.display.HTML object>"
      ]
     },
     "metadata": {},
     "output_type": "display_data"
    },
    {
     "data": {
      "text/html": [
       "Syncing run <strong><a href='https://wandb.ai/sigmundhh/ddpm-lightning/runs/vhf49hi2' target=\"_blank\">sage-sponge-3</a></strong> to <a href='https://wandb.ai/sigmundhh/ddpm-lightning' target=\"_blank\">Weights & Biases</a> (<a href='https://wandb.me/run' target=\"_blank\">docs</a>)<br/>"
      ],
      "text/plain": [
       "<IPython.core.display.HTML object>"
      ]
     },
     "metadata": {},
     "output_type": "display_data"
    },
    {
     "data": {
      "text/html": [
       " View project at <a href='https://wandb.ai/sigmundhh/ddpm-lightning' target=\"_blank\">https://wandb.ai/sigmundhh/ddpm-lightning</a>"
      ],
      "text/plain": [
       "<IPython.core.display.HTML object>"
      ]
     },
     "metadata": {},
     "output_type": "display_data"
    },
    {
     "data": {
      "text/html": [
       " View run at <a href='https://wandb.ai/sigmundhh/ddpm-lightning/runs/vhf49hi2' target=\"_blank\">https://wandb.ai/sigmundhh/ddpm-lightning/runs/vhf49hi2</a>"
      ],
      "text/plain": [
       "<IPython.core.display.HTML object>"
      ]
     },
     "metadata": {},
     "output_type": "display_data"
    },
    {
     "name": "stderr",
     "output_type": "stream",
     "text": [
      "/home/sigmund/miniconda3/envs/calvin_venv/lib/python3.8/site-packages/pytorch_lightning/trainer/connectors/accelerator_connector.py:441: LightningDeprecationWarning: Setting `Trainer(gpus=1)` is deprecated in v1.7 and will be removed in v2.0. Please use `Trainer(accelerator='gpu', devices=1)` instead.\n",
      "  rank_zero_deprecation(\n",
      "GPU available: True (cuda), used: True\n",
      "TPU available: False, using: 0 TPU cores\n",
      "IPU available: False, using: 0 IPUs\n",
      "HPU available: False, using: 0 HPUs\n"
     ]
    }
   ],
   "source": [
    "cond_ddpm = CondDDPM(ContextUnet(1))\n",
    "wandb_logger = WandbLogger(project=\"ddpm-lightning\")\n",
    "trainer = pl.Trainer(max_epochs=num_epochs, logger=wandb_logger, gpus=1)\n",
    "#trainer.fit(cond_ddpm, loader)\n",
    "\n",
    "# Save model\n",
    "torch.save(cond_ddpm.state_dict(), \"checkpoints/ddpm.pt\")"
   ]
  },
  {
   "cell_type": "code",
   "execution_count": 11,
   "metadata": {},
   "outputs": [
    {
     "name": "stderr",
     "output_type": "stream",
     "text": [
      "/tmp/ipykernel_1228076/854333657.py:68: UserWarning: torch.range is deprecated and will be removed in a future release because its behavior is inconsistent with Python's range builtin. Instead, use torch.arange, which produces values in [start, end).\n",
      "  for t in tqdm(torch.range(self.num_diff_steps-1, 0, -1, dtype=torch.long, device=self.device)):\n",
      "  0%|          | 0/1000 [00:00<?, ?it/s]"
     ]
    }
   ],
   "source": [
    "# Load model\n",
    "cond_ddpm.load_state_dict(torch.load(\"checkpoints/ddpm.pt\"))\n",
    "show_images(cond_ddpm.generate_images_discrete(5), \"Generated sample\")"
   ]
  },
  {
   "cell_type": "code",
   "execution_count": null,
   "metadata": {},
   "outputs": [],
   "source": []
  }
 ],
 "metadata": {
  "kernelspec": {
   "display_name": "colab",
   "language": "python",
   "name": "python3"
  },
  "language_info": {
   "codemirror_mode": {
    "name": "ipython",
    "version": 3
   },
   "file_extension": ".py",
   "mimetype": "text/x-python",
   "name": "python",
   "nbconvert_exporter": "python",
   "pygments_lexer": "ipython3",
   "version": "3.8.16"
  },
  "orig_nbformat": 4
 },
 "nbformat": 4,
 "nbformat_minor": 2
}
